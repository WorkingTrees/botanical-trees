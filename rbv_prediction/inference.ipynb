{
 "cells": [
  {
   "cell_type": "code",
   "execution_count": 14,
   "id": "2bc114bb-aa2d-47f1-94a5-59e1e92e79e4",
   "metadata": {},
   "outputs": [],
   "source": [
    "import json\n",
    "import torch\n",
    "from pathlib import Path\n",
    "from src import utils\n",
    "from src.model import RBVPredictor\n",
    "from PIL import Image"
   ]
  },
  {
   "cell_type": "code",
   "execution_count": 7,
   "id": "af3bddda-305f-40a2-b121-503313538583",
   "metadata": {},
   "outputs": [],
   "source": [
    "data_root = Path(\"/ssd_scratch/cvit/ishaanshah/tree_transformed_dataset/\")\n",
    "model_path = Path(\"./model/model.ckpt\")"
   ]
  },
  {
   "cell_type": "code",
   "execution_count": 10,
   "id": "c752a29c-36a1-41b5-bbdc-d0682b3b910f",
   "metadata": {},
   "outputs": [
    {
     "data": {
      "text/plain": [
       "RBVPredictor(\n",
       "  (criterion): MSELoss()\n",
       "  (accuracy): CosineSimilarity()\n",
       "  (encoder): Sequential(\n",
       "    (0): Conv2d(3, 64, kernel_size=(5, 5), stride=(1, 1), padding=(2, 2))\n",
       "    (1): ReLU()\n",
       "    (2): MaxPool2d(kernel_size=2, stride=2, padding=0, dilation=1, ceil_mode=False)\n",
       "    (3): Conv2d(64, 64, kernel_size=(5, 5), stride=(1, 1), padding=(2, 2))\n",
       "    (4): ReLU()\n",
       "    (5): MaxPool2d(kernel_size=2, stride=2, padding=0, dilation=1, ceil_mode=False)\n",
       "    (6): Conv2d(64, 128, kernel_size=(5, 5), stride=(1, 1), padding=(2, 2))\n",
       "    (7): ReLU()\n",
       "    (8): MaxPool2d(kernel_size=2, stride=2, padding=0, dilation=1, ceil_mode=False)\n",
       "    (9): Conv2d(128, 128, kernel_size=(5, 5), stride=(1, 1), padding=(2, 2))\n",
       "    (10): ReLU()\n",
       "    (11): MaxPool2d(kernel_size=2, stride=2, padding=0, dilation=1, ceil_mode=False)\n",
       "    (12): Conv2d(128, 128, kernel_size=(5, 5), stride=(1, 1), padding=(2, 2))\n",
       "    (13): ReLU()\n",
       "    (14): MaxPool2d(kernel_size=2, stride=2, padding=0, dilation=1, ceil_mode=False)\n",
       "    (15): Conv2d(128, 256, kernel_size=(5, 5), stride=(1, 1), padding=(2, 2))\n",
       "    (16): ReLU()\n",
       "    (17): MaxPool2d(kernel_size=2, stride=2, padding=0, dilation=1, ceil_mode=False)\n",
       "    (18): Conv2d(256, 256, kernel_size=(5, 5), stride=(1, 1), padding=(2, 2))\n",
       "    (19): ReLU()\n",
       "    (20): MaxPool2d(kernel_size=2, stride=2, padding=0, dilation=1, ceil_mode=False)\n",
       "    (21): Conv2d(256, 512, kernel_size=(5, 5), stride=(1, 1), padding=(2, 2))\n",
       "    (22): ReLU()\n",
       "    (23): MaxPool2d(kernel_size=2, stride=2, padding=0, dilation=1, ceil_mode=False)\n",
       "    (24): Flatten(start_dim=1, end_dim=-1)\n",
       "  )\n",
       "  (base): Sequential(\n",
       "    (0): Linear(in_features=512, out_features=1024, bias=True)\n",
       "    (1): ReLU()\n",
       "    (2): Dropout(p=0.5, inplace=False)\n",
       "    (3): Linear(in_features=1024, out_features=1024, bias=True)\n",
       "    (4): ReLU()\n",
       "    (5): Dropout(p=0.5, inplace=False)\n",
       "    (6): Linear(in_features=1024, out_features=256, bias=True)\n",
       "    (7): ReLU()\n",
       "    (8): Dropout(p=0.5, inplace=False)\n",
       "  )\n",
       "  (head1): Sequential(\n",
       "    (0): Linear(in_features=256, out_features=4, bias=True)\n",
       "    (1): ReLU()\n",
       "    (2): Dropout(p=0.5, inplace=False)\n",
       "    (3): Linear(in_features=4, out_features=4, bias=True)\n",
       "    (4): ReLU()\n",
       "    (5): Dropout(p=0.5, inplace=False)\n",
       "    (6): Linear(in_features=4, out_features=1, bias=True)\n",
       "  )\n",
       "  (head1_post): Linear(in_features=1, out_features=16, bias=True)\n",
       "  (head2): Sequential(\n",
       "    (0): Linear(in_features=272, out_features=272, bias=True)\n",
       "    (1): ReLU()\n",
       "    (2): Dropout(p=0.5, inplace=False)\n",
       "    (3): Linear(in_features=272, out_features=16, bias=True)\n",
       "    (4): ReLU()\n",
       "    (5): Dropout(p=0.5, inplace=False)\n",
       "    (6): Linear(in_features=16, out_features=16, bias=True)\n",
       "    (7): ReLU()\n",
       "    (8): Dropout(p=0.5, inplace=False)\n",
       "    (9): Linear(in_features=16, out_features=4, bias=True)\n",
       "  )\n",
       "  (head2_post): Linear(in_features=4, out_features=32, bias=True)\n",
       "  (head4): Sequential(\n",
       "    (0): Linear(in_features=288, out_features=288, bias=True)\n",
       "    (1): ReLU()\n",
       "    (2): Dropout(p=0.5, inplace=False)\n",
       "    (3): Linear(in_features=288, out_features=64, bias=True)\n",
       "    (4): ReLU()\n",
       "    (5): Dropout(p=0.5, inplace=False)\n",
       "    (6): Linear(in_features=64, out_features=64, bias=True)\n",
       "    (7): ReLU()\n",
       "    (8): Dropout(p=0.5, inplace=False)\n",
       "    (9): Linear(in_features=64, out_features=16, bias=True)\n",
       "  )\n",
       "  (head4_post): Linear(in_features=16, out_features=64, bias=True)\n",
       "  (head8): Sequential(\n",
       "    (0): Linear(in_features=320, out_features=320, bias=True)\n",
       "    (1): ReLU()\n",
       "    (2): Dropout(p=0.5, inplace=False)\n",
       "    (3): Linear(in_features=320, out_features=256, bias=True)\n",
       "    (4): ReLU()\n",
       "    (5): Dropout(p=0.5, inplace=False)\n",
       "    (6): Linear(in_features=256, out_features=256, bias=True)\n",
       "    (7): ReLU()\n",
       "    (8): Dropout(p=0.5, inplace=False)\n",
       "    (9): Linear(in_features=256, out_features=64, bias=True)\n",
       "  )\n",
       ")"
      ]
     },
     "execution_count": 10,
     "metadata": {},
     "output_type": "execute_result"
    }
   ],
   "source": [
    "model = RBVPredictor.load_from_checkpoint(str(model_path))\n",
    "model.eval()"
   ]
  },
  {
   "cell_type": "code",
   "execution_count": 32,
   "id": "0e2f7424-02b3-423a-bea4-50140ae1c366",
   "metadata": {},
   "outputs": [],
   "source": [
    "def infer(idx):\n",
    "    label = utils.process_label(Image.open(str(data_root / 'train' / 'Labels' / f'{idx}.png')))\n",
    "    label = torch.unsqueeze(label, dim=0)\n",
    "    with open(str(data_root / 'train' / 'Info' / f'{idx}.json')) as f:\n",
    "        gt = json.load(f)['rbv']\n",
    "\n",
    "    with torch.no_grad():\n",
    "        x1, _, _, inferred = model(label)\n",
    "    print(x1)\n",
    "    return torch.tensor(gt), torch.reshape(inferred, (8, 8))"
   ]
  },
  {
   "cell_type": "code",
   "execution_count": 34,
   "id": "d3442cbe-f731-4bb6-b320-d7a0e51973cd",
   "metadata": {},
   "outputs": [
    {
     "name": "stdout",
     "output_type": "stream",
     "text": [
      "tensor([[0.4959]])\n",
      "tensor([[0.0072, 0.0098, 0.0068, 0.0081, 0.0077, 0.0086, 0.0070, 0.0095],\n",
      "        [0.4029, 0.4263, 0.1420, 0.0539, 0.0821, 0.4706, 0.2740, 0.0706],\n",
      "        [0.3300, 0.3098, 0.2688, 0.1228, 0.0964, 0.3439, 0.3550, 0.2920],\n",
      "        [0.2387, 0.2405, 0.0228, 0.1609, 0.2089, 0.2222, 0.2435, 0.2434],\n",
      "        [0.0947, 0.1526, 0.0317, 0.1855, 0.1651, 0.1544, 0.1532, 0.1361],\n",
      "        [0.0326, 0.1291, 0.0325, 0.0060, 0.1344, 0.0950, 0.1018, 0.0508],\n",
      "        [0.0148, 0.0201, 0.0800, 0.0715, 0.1046, 0.0730, 0.1414, 0.1226],\n",
      "        [0.1379, 0.0939, 0.1775, 0.1766, 0.1027, 0.1084, 0.1796, 0.1643]])\n",
      "tensor([[0.0462, 0.0487, 0.0457, 0.0470, 0.0476, 0.0476, 0.0459, 0.0484],\n",
      "        [0.1582, 0.1581, 0.1590, 0.1579, 0.1584, 0.1577, 0.1599, 0.1552],\n",
      "        [0.2813, 0.2833, 0.2796, 0.2798, 0.2803, 0.2798, 0.2817, 0.2799],\n",
      "        [0.3545, 0.3566, 0.3528, 0.3541, 0.3559, 0.3548, 0.3545, 0.3567],\n",
      "        [0.3602, 0.3579, 0.3609, 0.3596, 0.3614, 0.3590, 0.3604, 0.3583],\n",
      "        [0.3283, 0.3257, 0.3285, 0.3286, 0.3295, 0.3303, 0.3288, 0.3283],\n",
      "        [0.2734, 0.2740, 0.2743, 0.2746, 0.2754, 0.2783, 0.2762, 0.2750],\n",
      "        [0.1763, 0.1753, 0.1775, 0.1766, 0.1782, 0.1759, 0.1796, 0.1760]])\n"
     ]
    }
   ],
   "source": [
    "gt, inferred = infer(0)\n",
    "print(torch.abs(gt - inferred))\n",
    "print(inferred)"
   ]
  },
  {
   "cell_type": "code",
   "execution_count": 35,
   "id": "22be17ae-5fbf-43ec-bce6-dd8f0b2ca285",
   "metadata": {},
   "outputs": [
    {
     "name": "stdout",
     "output_type": "stream",
     "text": [
      "tensor([[0.4959]])\n",
      "tensor([[0.0031, 0.0135, 0.0159, 0.0195, 0.0201, 0.0200, 0.0090, 0.0077],\n",
      "        [0.1830, 0.1581, 0.1590, 0.1579, 0.1584, 0.2190, 0.2170, 0.1656],\n",
      "        [0.0719, 0.2131, 0.0530, 0.0773, 0.0240, 0.1332, 0.1759, 0.1746],\n",
      "        [0.0166, 0.1643, 0.1301, 0.1206, 0.0570, 0.0431, 0.1075, 0.0912],\n",
      "        [0.2208, 0.1889, 0.2260, 0.1001, 0.0234, 0.0091, 0.0174, 0.0191],\n",
      "        [0.0420, 0.1856, 0.1648, 0.0454, 0.0660, 0.0179, 0.0412, 0.0138],\n",
      "        [0.0031, 0.2740, 0.1141, 0.1141, 0.0020, 0.0671, 0.0811, 0.0333],\n",
      "        [0.0918, 0.1753, 0.1775, 0.1766, 0.0256, 0.1620, 0.1642, 0.1203]])\n",
      "tensor([[0.0430, 0.0352, 0.0298, 0.0275, 0.0275, 0.0275, 0.0549, 0.0561],\n",
      "        [0.3412, 0.0000, 0.0000, 0.0000, 0.0000, 0.3767, 0.3769, 0.3208],\n",
      "        [0.3532, 0.0702, 0.2266, 0.2025, 0.3043, 0.4131, 0.4576, 0.4545],\n",
      "        [0.3378, 0.1923, 0.2227, 0.2334, 0.2989, 0.3979, 0.4619, 0.4479],\n",
      "        [0.1394, 0.1690, 0.1348, 0.2594, 0.3380, 0.3681, 0.3778, 0.3391],\n",
      "        [0.2862, 0.1401, 0.1636, 0.2833, 0.2636, 0.3124, 0.3699, 0.3145],\n",
      "        [0.2703, 0.0000, 0.1602, 0.1605, 0.2734, 0.3455, 0.3573, 0.3084],\n",
      "        [0.2681, 0.0000, 0.0000, 0.0000, 0.1525, 0.3379, 0.3438, 0.2963]])\n",
      "tensor([[0.0462, 0.0487, 0.0457, 0.0470, 0.0476, 0.0476, 0.0459, 0.0484],\n",
      "        [0.1582, 0.1581, 0.1590, 0.1579, 0.1584, 0.1577, 0.1599, 0.1552],\n",
      "        [0.2813, 0.2833, 0.2796, 0.2798, 0.2803, 0.2798, 0.2817, 0.2799],\n",
      "        [0.3545, 0.3566, 0.3528, 0.3541, 0.3559, 0.3548, 0.3545, 0.3567],\n",
      "        [0.3602, 0.3579, 0.3609, 0.3596, 0.3614, 0.3590, 0.3604, 0.3583],\n",
      "        [0.3283, 0.3257, 0.3285, 0.3286, 0.3295, 0.3303, 0.3288, 0.3283],\n",
      "        [0.2734, 0.2740, 0.2743, 0.2746, 0.2754, 0.2783, 0.2762, 0.2750],\n",
      "        [0.1763, 0.1753, 0.1775, 0.1766, 0.1782, 0.1759, 0.1796, 0.1760]])\n"
     ]
    }
   ],
   "source": [
    "gt, inferred = infer(1)\n",
    "print(torch.abs(gt - inferred))\n",
    "print(gt)\n",
    "print(inferred)"
   ]
  },
  {
   "cell_type": "code",
   "execution_count": 40,
   "id": "03c683a7-5e7e-4c80-9365-cd655f427c43",
   "metadata": {},
   "outputs": [
    {
     "name": "stdout",
     "output_type": "stream",
     "text": [
      "tensor([[0.4959]])\n"
     ]
    }
   ],
   "source": [
    "gt, inferred = infer(2)\n",
    "#print(torch.abs(gt - inferred))\n",
    "# print(torch.mean(torch.abs(gt - inferred)))\n",
    "#print(gt)\n",
    "#print(inferred)"
   ]
  },
  {
   "cell_type": "code",
   "execution_count": null,
   "id": "59d86e45-d434-424f-9dc2-ab8840b71649",
   "metadata": {},
   "outputs": [],
   "source": []
  }
 ],
 "metadata": {
  "kernelspec": {
   "display_name": "Python 3 (ipykernel)",
   "language": "python",
   "name": "python3"
  },
  "language_info": {
   "codemirror_mode": {
    "name": "ipython",
    "version": 3
   },
   "file_extension": ".py",
   "mimetype": "text/x-python",
   "name": "python",
   "nbconvert_exporter": "python",
   "pygments_lexer": "ipython3",
   "version": "3.9.1"
  }
 },
 "nbformat": 4,
 "nbformat_minor": 5
}
